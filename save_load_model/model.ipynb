{
 "cells": [
  {
   "cell_type": "code",
   "execution_count": 1,
   "id": "71bc56e8",
   "metadata": {},
   "outputs": [],
   "source": [
    "from sklearn.linear_model import LinearRegression\n",
    "from pandas import read_csv\n",
    "import pickle"
   ]
  },
  {
   "cell_type": "code",
   "execution_count": 2,
   "id": "3674dc30",
   "metadata": {},
   "outputs": [],
   "source": [
    "def sk_regression(x, y):\n",
    "    '''\n",
    "    Given x & y values, implements linear regression from sci kit learn\n",
    "        This is to compare values obtained by our GD algorithm and via sci kit learn\n",
    "    '''\n",
    "    model = LinearRegression().fit(x, y)\n",
    "    print(f'Coefficients: {model.coef_}, Intercept: {model.intercept_}')\n",
    "    return model\n"
   ]
  },
  {
   "cell_type": "code",
   "execution_count": 8,
   "id": "5a6b510c",
   "metadata": {},
   "outputs": [],
   "source": [
    "data = read_csv(r\"C:\\Users\\sripr\\Documents\\VScode\\Machine Learning\\gradient_descent\\scores.csv\") #returns a data frame object"
   ]
  },
  {
   "cell_type": "code",
   "execution_count": 9,
   "id": "eefd44c8",
   "metadata": {},
   "outputs": [],
   "source": [
    "math_scores = data['math'].to_numpy() #returns a numpy array\n",
    "cs_scores = data['cs'].to_numpy()"
   ]
  },
  {
   "cell_type": "code",
   "execution_count": 10,
   "id": "dd719d42",
   "metadata": {},
   "outputs": [
    {
     "name": "stdout",
     "output_type": "stream",
     "text": [
      "Coefficients: [1.01773624], Intercept: 1.9152193111568891\n"
     ]
    }
   ],
   "source": [
    "math = data.drop(['name', 'cs'], axis = 1) # doing this to match the datatype to pass in the fit method\n",
    "model = sk_regression(math.values, cs_scores)"
   ]
  },
  {
   "cell_type": "code",
   "execution_count": 11,
   "id": "01f2a73a",
   "metadata": {},
   "outputs": [],
   "source": [
    "# save the trained model in a binary file using Pickle\n",
    "with open('model_pickle', 'wb') as f:\n",
    "    pickle.dump(model, f)"
   ]
  },
  {
   "cell_type": "code",
   "execution_count": null,
   "id": "205ae16a",
   "metadata": {},
   "outputs": [],
   "source": []
  }
 ],
 "metadata": {
  "kernelspec": {
   "display_name": "Python 3 (ipykernel)",
   "language": "python",
   "name": "python3"
  },
  "language_info": {
   "codemirror_mode": {
    "name": "ipython",
    "version": 3
   },
   "file_extension": ".py",
   "mimetype": "text/x-python",
   "name": "python",
   "nbconvert_exporter": "python",
   "pygments_lexer": "ipython3",
   "version": "3.10.2"
  }
 },
 "nbformat": 4,
 "nbformat_minor": 5
}
